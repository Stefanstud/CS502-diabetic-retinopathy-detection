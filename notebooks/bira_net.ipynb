{
 "cells": [
  {
   "cell_type": "markdown",
   "metadata": {},
   "source": [
    "# Bira-net: Bilinear attention net for diabetic retinopathy grading"
   ]
  },
  {
   "cell_type": "markdown",
   "metadata": {},
   "source": [
    "In our pursuit to develop a network inspired by successful models in DR grading, we focused on leveraging and adapting the BiRA-Net architecture, which was specifically designed for this purpose. BiRA-Net combines an attention model for feature extraction and bilinear model for fine-grained classification. In our adaptation, we modified the standard BiRA-Net by replacing its ResNet component with EfficientNet for improved feature extraction."
   ]
  },
  {
   "cell_type": "markdown",
   "metadata": {},
   "source": [
    "Paper:\n",
    "https://arxiv.org/abs/1905.06312\n",
    "\n",
    "Github: \n",
    "https://github.com/ISS-Kerui/BIRA-NET-BILINEAR-ATTENTION-NET-FOR-DIABETIC-RETINOPATHY-GRADING"
   ]
  },
  {
   "cell_type": "markdown",
   "metadata": {},
   "source": [
    "**Note:** We highly recommend running this notebook on a GPU. "
   ]
  },
  {
   "cell_type": "markdown",
   "metadata": {},
   "source": [
    "## 0. Initialization"
   ]
  },
  {
   "cell_type": "code",
   "execution_count": 1,
   "metadata": {},
   "outputs": [],
   "source": [
    "import os\n",
    "\n",
    "os.chdir(\"..\")\n",
    "import requests\n",
    "import zipfile\n",
    "from tqdm import tqdm\n",
    "import pandas as pd\n",
    "import torch\n",
    "import torch.nn as nn\n",
    "import torch.optim as optim\n",
    "from src.models.bira_net import BiraNet\n",
    "from src.utils import seed_everything\n",
    "from src.loading import load_data, load_test_data\n",
    "from src.train import train"
   ]
  },
  {
   "cell_type": "code",
   "execution_count": 2,
   "metadata": {},
   "outputs": [],
   "source": [
    "# Set seeds\n",
    "seed_everything()\n",
    "\n",
    "# Set device\n",
    "device = torch.device(\"cuda\" if torch.cuda.is_available() else \"cpu\")"
   ]
  },
  {
   "cell_type": "markdown",
   "metadata": {},
   "source": [
    "\n",
    "\n",
    "---\n",
    "\n",
    "<a name='s1'></a>\n",
    "## 1. Downloading the dataset\n",
    "\n",
    "Fetching the dataset should take around 4-5 minutes. Unzipping takes 20s."
   ]
  },
  {
   "cell_type": "code",
   "execution_count": 3,
   "metadata": {},
   "outputs": [],
   "source": [
    "# if folder 'data/' is does not exist, download the data\n",
    "if not os.path.exists(\"data/\"):\n",
    "    # Dropbox URL\n",
    "    dropbox_url = \"https://www.dropbox.com/scl/fi/sa14unf8s47e9ym125zgo/data.zip?rlkey=198bg0cmbmmrcjkfufy9064wm&dl=1\"\n",
    "\n",
    "    # File path where the .zip file will be saved\n",
    "    file_path = \"data.zip\"\n",
    "\n",
    "    response = requests.get(dropbox_url)\n",
    "\n",
    "    if response.status_code == 200:\n",
    "        with open(file_path, \"wb\") as file:\n",
    "            file.write(response.content)\n",
    "        message = \"Download successful. The file has been saved as 'data.zip'.\"\n",
    "    else:\n",
    "        message = \"Failed to download the file. Error code: \" + str(\n",
    "            response.status_code\n",
    "        )\n",
    "\n",
    "    print(message)\n",
    "\n",
    "    # Path to the downloaded .zip file\n",
    "    zip_file_path = \"data.zip\"\n",
    "\n",
    "    # Directory to extract the contents of the zip file\n",
    "    extraction_path = \"\"\n",
    "\n",
    "    # Unzipping the file\n",
    "    with zipfile.ZipFile(zip_file_path, \"r\") as zip_ref:\n",
    "        zip_ref.extractall(extraction_path)\n",
    "\n",
    "    extraction_message = (\n",
    "        f\"The contents of the zip file have been extracted to: {extraction_path}\"\n",
    "    )\n",
    "\n",
    "    print(extraction_message)"
   ]
  },
  {
   "cell_type": "markdown",
   "metadata": {},
   "source": [
    "## 2. Data"
   ]
  },
  {
   "cell_type": "markdown",
   "metadata": {},
   "source": [
    "Load the data with improved preprocessing. Set the batch size according to your machine, here we tried to set it as high as possible, as long as the GPU has enough memory."
   ]
  },
  {
   "cell_type": "code",
   "execution_count": 4,
   "metadata": {},
   "outputs": [],
   "source": [
    "# Load the .jpeg files in the data folder\n",
    "PATH_IMAGES = \"data/images_keep_ar\"\n",
    "PATH_LABELS = \"data/labels/trainLabels.csv\"\n",
    "batch_size = 16\n",
    "img_size = (400, 400)\n",
    "num_epochs = 20\n",
    "num_classes = 5"
   ]
  },
  {
   "cell_type": "markdown",
   "metadata": {},
   "source": [
    "Load train and validation, 90-10 ratio. "
   ]
  },
  {
   "cell_type": "code",
   "execution_count": 5,
   "metadata": {},
   "outputs": [
    {
     "name": "stdout",
     "output_type": "stream",
     "text": [
      "Number of train samples:31964\n",
      "Number of validation samples:3162\n"
     ]
    }
   ],
   "source": [
    "train_loader, validation_loader = load_data(\n",
    "    PATH_LABELS, PATH_IMAGES, img_size, batch_size\n",
    ")"
   ]
  },
  {
   "cell_type": "markdown",
   "metadata": {},
   "source": [
    "## 3. Model"
   ]
  },
  {
   "cell_type": "markdown",
   "metadata": {},
   "source": [
    "Load the BiraNet model with efficientnet-b3 as backbone. The backbone is our pretrained model on diabetic retinopathy dataset."
   ]
  },
  {
   "cell_type": "code",
   "execution_count": 6,
   "metadata": {},
   "outputs": [],
   "source": [
    "# Initialize model\n",
    "model = BiraNet(num_classes)\n",
    "criterion = nn.CrossEntropyLoss()\n",
    "optimizer = optim.Adam(model.parameters(), lr=3e-5)\n",
    "model = model.to(device)"
   ]
  },
  {
   "cell_type": "markdown",
   "metadata": {},
   "source": [
    "Optional. If you want to fine tune this model, we advise you to do in in steps. Load the last checkpoint to continue with training. "
   ]
  },
  {
   "cell_type": "code",
   "execution_count": 7,
   "metadata": {},
   "outputs": [],
   "source": [
    "# MODEL = \"results/models/bira_baseline.pt\"\n",
    "# model.load_state_dict(torch.load(MODEL))"
   ]
  },
  {
   "cell_type": "markdown",
   "metadata": {},
   "source": [
    "### 3.1 Model training and evaluation"
   ]
  },
  {
   "cell_type": "code",
   "execution_count": 8,
   "metadata": {},
   "outputs": [
    {
     "name": "stderr",
     "output_type": "stream",
     "text": [
      "100%|██████████| 1998/1998 [08:19<00:00,  4.00it/s]\n"
     ]
    },
    {
     "name": "stdout",
     "output_type": "stream",
     "text": [
      "Epoch: 1 Loss: 0.11222338676452637\n",
      "Train accuracy:  0.8451382805656363\n",
      "Train kappa score:  0.7683582384254026\n",
      "---------------\n"
     ]
    },
    {
     "name": "stderr",
     "output_type": "stream",
     "text": [
      "100%|██████████| 198/198 [00:45<00:00,  4.34it/s]\n"
     ]
    },
    {
     "name": "stdout",
     "output_type": "stream",
     "text": [
      "Validation accuracy:  0.8184693232131562\n",
      "Validation kappa score:  0.6970448963530279\n",
      "---------------\n",
      "New best model saved with kappa score: 0.6970448963530279\n"
     ]
    },
    {
     "name": "stderr",
     "output_type": "stream",
     "text": [
      "100%|██████████| 1998/1998 [08:30<00:00,  3.92it/s]\n"
     ]
    },
    {
     "name": "stdout",
     "output_type": "stream",
     "text": [
      "Epoch: 2 Loss: 0.23008887469768524\n",
      "Train accuracy:  0.8549618320610687\n",
      "Train kappa score:  0.8051324044687467\n",
      "---------------\n"
     ]
    },
    {
     "name": "stderr",
     "output_type": "stream",
     "text": [
      "100%|██████████| 198/198 [00:45<00:00,  4.31it/s]\n"
     ]
    },
    {
     "name": "stdout",
     "output_type": "stream",
     "text": [
      "Validation accuracy:  0.8118279569892473\n",
      "Validation kappa score:  0.6841168367727766\n",
      "---------------\n"
     ]
    },
    {
     "name": "stderr",
     "output_type": "stream",
     "text": [
      "100%|██████████| 1998/1998 [08:27<00:00,  3.94it/s]\n"
     ]
    },
    {
     "name": "stdout",
     "output_type": "stream",
     "text": [
      "Epoch: 3 Loss: 0.5058364868164062\n",
      "Train accuracy:  0.8541484169690903\n",
      "Train kappa score:  0.805538260603288\n",
      "---------------\n"
     ]
    },
    {
     "name": "stderr",
     "output_type": "stream",
     "text": [
      "100%|██████████| 198/198 [00:45<00:00,  4.38it/s]\n"
     ]
    },
    {
     "name": "stdout",
     "output_type": "stream",
     "text": [
      "Validation accuracy:  0.8121442125237192\n",
      "Validation kappa score:  0.6879570270300579\n",
      "---------------\n"
     ]
    },
    {
     "name": "stderr",
     "output_type": "stream",
     "text": [
      "100%|██████████| 1998/1998 [08:25<00:00,  3.96it/s]\n"
     ]
    },
    {
     "name": "stdout",
     "output_type": "stream",
     "text": [
      "Epoch: 4 Loss: 0.8341467380523682\n",
      "Train accuracy:  0.8553059692153673\n",
      "Train kappa score:  0.805776257090314\n",
      "---------------\n"
     ]
    },
    {
     "name": "stderr",
     "output_type": "stream",
     "text": [
      "100%|██████████| 198/198 [00:45<00:00,  4.35it/s]\n"
     ]
    },
    {
     "name": "stdout",
     "output_type": "stream",
     "text": [
      "Validation accuracy:  0.8162555344718533\n",
      "Validation kappa score:  0.6933094000944733\n",
      "---------------\n"
     ]
    },
    {
     "name": "stderr",
     "output_type": "stream",
     "text": [
      "100%|██████████| 1998/1998 [08:25<00:00,  3.96it/s]\n"
     ]
    },
    {
     "name": "stdout",
     "output_type": "stream",
     "text": [
      "Epoch: 5 Loss: 0.611422598361969\n",
      "Train accuracy:  0.856619947440871\n",
      "Train kappa score:  0.8102780956895763\n",
      "---------------\n"
     ]
    },
    {
     "name": "stderr",
     "output_type": "stream",
     "text": [
      "100%|██████████| 198/198 [00:44<00:00,  4.45it/s]\n"
     ]
    },
    {
     "name": "stdout",
     "output_type": "stream",
     "text": [
      "Validation accuracy:  0.8149905123339658\n",
      "Validation kappa score:  0.6971858014924694\n",
      "---------------\n",
      "New best model saved with kappa score: 0.6971858014924694\n"
     ]
    },
    {
     "name": "stderr",
     "output_type": "stream",
     "text": [
      "100%|██████████| 1998/1998 [08:11<00:00,  4.06it/s]\n"
     ]
    },
    {
     "name": "stdout",
     "output_type": "stream",
     "text": [
      "Epoch: 6 Loss: 0.19261349737644196\n",
      "Train accuracy:  0.8553998248029032\n",
      "Train kappa score:  0.8089816532509806\n",
      "---------------\n"
     ]
    },
    {
     "name": "stderr",
     "output_type": "stream",
     "text": [
      "100%|██████████| 198/198 [00:42<00:00,  4.66it/s]\n"
     ]
    },
    {
     "name": "stdout",
     "output_type": "stream",
     "text": [
      "Validation accuracy:  0.8111954459203036\n",
      "Validation kappa score:  0.6933176393647454\n",
      "---------------\n"
     ]
    },
    {
     "name": "stderr",
     "output_type": "stream",
     "text": [
      "100%|██████████| 1998/1998 [08:02<00:00,  4.14it/s]\n"
     ]
    },
    {
     "name": "stdout",
     "output_type": "stream",
     "text": [
      "Epoch: 7 Loss: 0.11881455034017563\n",
      "Train accuracy:  0.856807658615943\n",
      "Train kappa score:  0.8103601298045779\n",
      "---------------\n"
     ]
    },
    {
     "name": "stderr",
     "output_type": "stream",
     "text": [
      "100%|██████████| 198/198 [00:43<00:00,  4.59it/s]\n"
     ]
    },
    {
     "name": "stdout",
     "output_type": "stream",
     "text": [
      "Validation accuracy:  0.8156230234029096\n",
      "Validation kappa score:  0.7046498000135089\n",
      "---------------\n",
      "New best model saved with kappa score: 0.7046498000135089\n"
     ]
    },
    {
     "name": "stderr",
     "output_type": "stream",
     "text": [
      "100%|██████████| 1998/1998 [07:59<00:00,  4.17it/s]\n"
     ]
    },
    {
     "name": "stdout",
     "output_type": "stream",
     "text": [
      "Epoch: 8 Loss: 0.33350062370300293\n",
      "Train accuracy:  0.8555875359779752\n",
      "Train kappa score:  0.809853948633956\n",
      "---------------\n"
     ]
    },
    {
     "name": "stderr",
     "output_type": "stream",
     "text": [
      "100%|██████████| 198/198 [00:42<00:00,  4.66it/s]\n"
     ]
    },
    {
     "name": "stdout",
     "output_type": "stream",
     "text": [
      "Validation accuracy:  0.8162555344718533\n",
      "Validation kappa score:  0.6997732985646158\n",
      "---------------\n"
     ]
    },
    {
     "name": "stderr",
     "output_type": "stream",
     "text": [
      "100%|██████████| 1998/1998 [07:59<00:00,  4.16it/s]\n"
     ]
    },
    {
     "name": "stdout",
     "output_type": "stream",
     "text": [
      "Epoch: 9 Loss: 0.27393218874931335\n",
      "Train accuracy:  0.8581842072331373\n",
      "Train kappa score:  0.8123947144490061\n",
      "---------------\n"
     ]
    },
    {
     "name": "stderr",
     "output_type": "stream",
     "text": [
      "100%|██████████| 198/198 [00:43<00:00,  4.52it/s]\n"
     ]
    },
    {
     "name": "stdout",
     "output_type": "stream",
     "text": [
      "Validation accuracy:  0.8149905123339658\n",
      "Validation kappa score:  0.7026566772506675\n",
      "---------------\n"
     ]
    },
    {
     "name": "stderr",
     "output_type": "stream",
     "text": [
      "100%|██████████| 1998/1998 [07:59<00:00,  4.17it/s]\n"
     ]
    },
    {
     "name": "stdout",
     "output_type": "stream",
     "text": [
      "Epoch: 10 Loss: 0.3062385618686676\n",
      "Train accuracy:  0.8564635214616444\n",
      "Train kappa score:  0.8080269572121669\n",
      "---------------\n"
     ]
    },
    {
     "name": "stderr",
     "output_type": "stream",
     "text": [
      "100%|██████████| 198/198 [00:42<00:00,  4.63it/s]\n"
     ]
    },
    {
     "name": "stdout",
     "output_type": "stream",
     "text": [
      "Validation accuracy:  0.8134092346616065\n",
      "Validation kappa score:  0.6877432718569902\n",
      "---------------\n"
     ]
    },
    {
     "name": "stderr",
     "output_type": "stream",
     "text": [
      "100%|██████████| 1998/1998 [08:01<00:00,  4.15it/s]\n"
     ]
    },
    {
     "name": "stdout",
     "output_type": "stream",
     "text": [
      "Epoch: 11 Loss: 0.5665830373764038\n",
      "Train accuracy:  0.8559629583281191\n",
      "Train kappa score:  0.8113499671028293\n",
      "---------------\n"
     ]
    },
    {
     "name": "stderr",
     "output_type": "stream",
     "text": [
      "100%|██████████| 198/198 [00:43<00:00,  4.58it/s]\n"
     ]
    },
    {
     "name": "stdout",
     "output_type": "stream",
     "text": [
      "Validation accuracy:  0.8172043010752689\n",
      "Validation kappa score:  0.6995009288734958\n",
      "---------------\n"
     ]
    },
    {
     "name": "stderr",
     "output_type": "stream",
     "text": [
      "100%|██████████| 1998/1998 [08:00<00:00,  4.15it/s]\n"
     ]
    },
    {
     "name": "stdout",
     "output_type": "stream",
     "text": [
      "Epoch: 12 Loss: 0.20597444474697113\n",
      "Train accuracy:  0.8568702290076335\n",
      "Train kappa score:  0.8098269802399449\n",
      "---------------\n"
     ]
    },
    {
     "name": "stderr",
     "output_type": "stream",
     "text": [
      "100%|██████████| 198/198 [00:42<00:00,  4.62it/s]\n"
     ]
    },
    {
     "name": "stdout",
     "output_type": "stream",
     "text": [
      "Validation accuracy:  0.8137254901960784\n",
      "Validation kappa score:  0.6960922562667555\n",
      "---------------\n"
     ]
    },
    {
     "name": "stderr",
     "output_type": "stream",
     "text": [
      "100%|██████████| 1998/1998 [08:00<00:00,  4.15it/s]\n"
     ]
    },
    {
     "name": "stdout",
     "output_type": "stream",
     "text": [
      "Epoch: 13 Loss: 0.5816908478736877\n",
      "Train accuracy:  0.8582467776248279\n",
      "Train kappa score:  0.814716093428898\n",
      "---------------\n"
     ]
    },
    {
     "name": "stderr",
     "output_type": "stream",
     "text": [
      "100%|██████████| 198/198 [00:42<00:00,  4.66it/s]\n"
     ]
    },
    {
     "name": "stdout",
     "output_type": "stream",
     "text": [
      "Validation accuracy:  0.8162555344718533\n",
      "Validation kappa score:  0.6969416409642106\n",
      "---------------\n"
     ]
    },
    {
     "name": "stderr",
     "output_type": "stream",
     "text": [
      "100%|██████████| 1998/1998 [08:01<00:00,  4.15it/s]\n"
     ]
    },
    {
     "name": "stdout",
     "output_type": "stream",
     "text": [
      "Epoch: 14 Loss: 0.7200804352760315\n",
      "Train accuracy:  0.8567763734200976\n",
      "Train kappa score:  0.8101227040780041\n",
      "---------------\n"
     ]
    },
    {
     "name": "stderr",
     "output_type": "stream",
     "text": [
      "100%|██████████| 198/198 [00:42<00:00,  4.62it/s]\n"
     ]
    },
    {
     "name": "stdout",
     "output_type": "stream",
     "text": [
      "Validation accuracy:  0.8140417457305503\n",
      "Validation kappa score:  0.6921033199889333\n",
      "---------------\n"
     ]
    },
    {
     "name": "stderr",
     "output_type": "stream",
     "text": [
      "100%|██████████| 1998/1998 [07:58<00:00,  4.17it/s]\n"
     ]
    },
    {
     "name": "stdout",
     "output_type": "stream",
     "text": [
      "Epoch: 15 Loss: 0.11357419937849045\n",
      "Train accuracy:  0.8574646477286948\n",
      "Train kappa score:  0.8142847226171238\n",
      "---------------\n"
     ]
    },
    {
     "name": "stderr",
     "output_type": "stream",
     "text": [
      "100%|██████████| 198/198 [00:42<00:00,  4.65it/s]\n"
     ]
    },
    {
     "name": "stdout",
     "output_type": "stream",
     "text": [
      "Validation accuracy:  0.812460468058191\n",
      "Validation kappa score:  0.6957350914276721\n",
      "---------------\n"
     ]
    },
    {
     "name": "stderr",
     "output_type": "stream",
     "text": [
      "100%|██████████| 1998/1998 [08:00<00:00,  4.16it/s]\n"
     ]
    },
    {
     "name": "stdout",
     "output_type": "stream",
     "text": [
      "Epoch: 16 Loss: 0.29996195435523987\n",
      "Train accuracy:  0.8579964960580653\n",
      "Train kappa score:  0.8104105589513849\n",
      "---------------\n"
     ]
    },
    {
     "name": "stderr",
     "output_type": "stream",
     "text": [
      "100%|██████████| 198/198 [00:42<00:00,  4.67it/s]\n"
     ]
    },
    {
     "name": "stdout",
     "output_type": "stream",
     "text": [
      "Validation accuracy:  0.8153067678684377\n",
      "Validation kappa score:  0.7001462939061952\n",
      "---------------\n"
     ]
    },
    {
     "name": "stderr",
     "output_type": "stream",
     "text": [
      "100%|██████████| 1998/1998 [08:00<00:00,  4.16it/s]\n"
     ]
    },
    {
     "name": "stdout",
     "output_type": "stream",
     "text": [
      "Epoch: 17 Loss: 0.37165117263793945\n",
      "Train accuracy:  0.8560255287198097\n",
      "Train kappa score:  0.8097458250630456\n",
      "---------------\n"
     ]
    },
    {
     "name": "stderr",
     "output_type": "stream",
     "text": [
      "100%|██████████| 198/198 [00:43<00:00,  4.58it/s]\n"
     ]
    },
    {
     "name": "stdout",
     "output_type": "stream",
     "text": [
      "Validation accuracy:  0.8172043010752689\n",
      "Validation kappa score:  0.6928594955804255\n",
      "---------------\n"
     ]
    },
    {
     "name": "stderr",
     "output_type": "stream",
     "text": [
      "100%|██████████| 1998/1998 [08:01<00:00,  4.15it/s]\n"
     ]
    },
    {
     "name": "stdout",
     "output_type": "stream",
     "text": [
      "Epoch: 18 Loss: 0.42793428897857666\n",
      "Train accuracy:  0.8567763734200976\n",
      "Train kappa score:  0.8108987599744321\n",
      "---------------\n"
     ]
    },
    {
     "name": "stderr",
     "output_type": "stream",
     "text": [
      "100%|██████████| 198/198 [00:43<00:00,  4.58it/s]\n"
     ]
    },
    {
     "name": "stdout",
     "output_type": "stream",
     "text": [
      "Validation accuracy:  0.812460468058191\n",
      "Validation kappa score:  0.6915336290418173\n",
      "---------------\n"
     ]
    },
    {
     "name": "stderr",
     "output_type": "stream",
     "text": [
      "100%|██████████| 1998/1998 [08:02<00:00,  4.14it/s]\n"
     ]
    },
    {
     "name": "stdout",
     "output_type": "stream",
     "text": [
      "Epoch: 19 Loss: 0.37102627754211426\n",
      "Train accuracy:  0.8578400700788387\n",
      "Train kappa score:  0.8128355498113287\n",
      "---------------\n"
     ]
    },
    {
     "name": "stderr",
     "output_type": "stream",
     "text": [
      "100%|██████████| 198/198 [00:42<00:00,  4.65it/s]\n"
     ]
    },
    {
     "name": "stdout",
     "output_type": "stream",
     "text": [
      "Validation accuracy:  0.8159392789373814\n",
      "Validation kappa score:  0.6983095301875841\n",
      "---------------\n"
     ]
    },
    {
     "name": "stderr",
     "output_type": "stream",
     "text": [
      "100%|██████████| 1998/1998 [07:56<00:00,  4.19it/s]\n"
     ]
    },
    {
     "name": "stdout",
     "output_type": "stream",
     "text": [
      "Epoch: 20 Loss: 0.3165440857410431\n",
      "Train accuracy:  0.859498185458641\n",
      "Train kappa score:  0.8195471716253278\n",
      "---------------\n"
     ]
    },
    {
     "name": "stderr",
     "output_type": "stream",
     "text": [
      "100%|██████████| 198/198 [00:43<00:00,  4.55it/s]"
     ]
    },
    {
     "name": "stdout",
     "output_type": "stream",
     "text": [
      "Validation accuracy:  0.8159392789373814\n",
      "Validation kappa score:  0.6999211700552697\n",
      "---------------\n"
     ]
    },
    {
     "name": "stderr",
     "output_type": "stream",
     "text": [
      "\n"
     ]
    }
   ],
   "source": [
    "train(\n",
    "    model,\n",
    "    train_loader,\n",
    "    validation_loader,\n",
    "    criterion,\n",
    "    optimizer,\n",
    "    device,\n",
    "    model_name=\"results/models/bira_eff_net.pt\",\n",
    "    num_epochs=num_epochs,\n",
    ")"
   ]
  },
  {
   "cell_type": "markdown",
   "metadata": {},
   "source": [
    "### Submission"
   ]
  },
  {
   "cell_type": "markdown",
   "metadata": {},
   "source": [
    "The following code is for generating a submission file"
   ]
  },
  {
   "cell_type": "code",
   "execution_count": 9,
   "metadata": {},
   "outputs": [],
   "source": [
    "# Model path\n",
    "MODEL = \"results/models/bira_eff_net.pt\"\n",
    "\n",
    "# Initialize model\n",
    "model = BiraNet(num_classes)\n",
    "model.load_state_dict(torch.load(MODEL))\n",
    "model = model.to(device)"
   ]
  },
  {
   "cell_type": "code",
   "execution_count": 10,
   "metadata": {},
   "outputs": [],
   "source": [
    "img_size = (400, 400)\n",
    "batch_size = 16\n",
    "test = load_test_data(\"data/test/\", img_size, batch_size)"
   ]
  },
  {
   "cell_type": "code",
   "execution_count": 12,
   "metadata": {},
   "outputs": [
    {
     "name": "stderr",
     "output_type": "stream",
     "text": [
      "100%|██████████| 3349/3349 [12:36<00:00,  4.42it/s]\n"
     ]
    }
   ],
   "source": [
    "# Test loop\n",
    "model.eval()\n",
    "test_preds = []\n",
    "test_names = []\n",
    "with torch.no_grad():\n",
    "    for images, names in tqdm(test):\n",
    "        images = images.to(device)\n",
    "        outputs = model(images)\n",
    "        predicted = outputs.argmax(dim=1)\n",
    "        test_preds.extend(predicted.cpu().numpy())\n",
    "        test_names.extend(names)"
   ]
  },
  {
   "cell_type": "code",
   "execution_count": 15,
   "metadata": {},
   "outputs": [],
   "source": [
    "# Make submission csv, first column \"image\" second columns \"level\"\n",
    "submission = pd.DataFrame({\"image\": test_names, \"level\": test_preds})\n",
    "submission.to_csv(\"submission.csv\", index=False)"
   ]
  }
 ],
 "metadata": {
  "kernelspec": {
   "display_name": "dlb",
   "language": "python",
   "name": "python3"
  },
  "language_info": {
   "codemirror_mode": {
    "name": "ipython",
    "version": 3
   },
   "file_extension": ".py",
   "mimetype": "text/x-python",
   "name": "python",
   "nbconvert_exporter": "python",
   "pygments_lexer": "ipython3",
   "version": "3.8.18"
  }
 },
 "nbformat": 4,
 "nbformat_minor": 2
}
