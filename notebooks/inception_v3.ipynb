{
 "cells": [
  {
   "cell_type": "markdown",
   "metadata": {},
   "source": [
    "# Using a pretrained model - Inception v3"
   ]
  },
  {
   "cell_type": "markdown",
   "metadata": {},
   "source": [
    "**Note:** We highly recommend running this notebook on a GPU. "
   ]
  },
  {
   "cell_type": "markdown",
   "metadata": {},
   "source": [
    "## 0. Initialization"
   ]
  },
  {
   "cell_type": "code",
   "execution_count": null,
   "metadata": {},
   "outputs": [],
   "source": [
    "%load_ext autoreload\n",
    "%autoreload 2"
   ]
  },
  {
   "cell_type": "code",
   "execution_count": null,
   "metadata": {},
   "outputs": [],
   "source": [
    "import warnings\n",
    "\n",
    "warnings.filterwarnings(\"ignore\")"
   ]
  },
  {
   "cell_type": "code",
   "execution_count": null,
   "metadata": {},
   "outputs": [],
   "source": [
    "import os\n",
    "\n",
    "os.chdir(\"..\")\n",
    "import requests\n",
    "import zipfile\n",
    "import numpy as np\n",
    "import matplotlib.pyplot as plt\n",
    "import torch\n",
    "import torch.nn as nn\n",
    "import torch.optim as optim\n",
    "from src.utils import seed_everything\n",
    "from torchvision.models import inception_v3, Inception_V3_Weights\n",
    "from src.loading import load_data\n",
    "from src.train import train"
   ]
  },
  {
   "cell_type": "code",
   "execution_count": null,
   "metadata": {},
   "outputs": [],
   "source": [
    "# Set the seeds\n",
    "seed_everything()\n",
    "\n",
    "# Set device\n",
    "device = torch.device(\"cuda\" if torch.cuda.is_available() else \"cpu\")"
   ]
  },
  {
   "cell_type": "markdown",
   "metadata": {},
   "source": [
    "\n",
    "\n",
    "---\n",
    "\n",
    "<a name='s1'></a>\n",
    "## 1. Downloading the dataset\n",
    "\n",
    "Fetching the dataset should take around 4-5 minutes. Unzipping takes 20s."
   ]
  },
  {
   "cell_type": "code",
   "execution_count": null,
   "metadata": {},
   "outputs": [],
   "source": [
    "# if folder 'data/' is does not exist, download the data\n",
    "if not os.path.exists(\"data/\"):\n",
    "    # Dropbox URL\n",
    "    dropbox_url = \"https://www.dropbox.com/scl/fi/sa14unf8s47e9ym125zgo/data.zip?rlkey=198bg0cmbmmrcjkfufy9064wm&dl=1\"\n",
    "\n",
    "    # File path where the .zip file will be saved\n",
    "    file_path = \"data.zip\"\n",
    "\n",
    "    response = requests.get(dropbox_url)\n",
    "\n",
    "    if response.status_code == 200:\n",
    "        with open(file_path, \"wb\") as file:\n",
    "            file.write(response.content)\n",
    "        message = \"Download successful. The file has been saved as 'data.zip'.\"\n",
    "    else:\n",
    "        message = \"Failed to download the file. Error code: \" + str(\n",
    "            response.status_code\n",
    "        )\n",
    "\n",
    "    print(message)\n",
    "\n",
    "    # Path to the downloaded .zip file\n",
    "    zip_file_path = \"data.zip\"\n",
    "\n",
    "    # Directory to extract the contents of the zip file\n",
    "    extraction_path = \"\"\n",
    "\n",
    "    # Unzipping the file\n",
    "    with zipfile.ZipFile(zip_file_path, \"r\") as zip_ref:\n",
    "        zip_ref.extractall(extraction_path)\n",
    "\n",
    "    extraction_message = (\n",
    "        f\"The contents of the zip file have been extracted to: {extraction_path}\"\n",
    "    )\n",
    "\n",
    "    print(extraction_message)"
   ]
  },
  {
   "cell_type": "markdown",
   "metadata": {},
   "source": [
    "## 2. Data"
   ]
  },
  {
   "cell_type": "markdown",
   "metadata": {},
   "source": [
    "Load the data with improved preprocessing. Set the batch size according to your machine, here we tried to set it as high as possible, as long as the GPU has enough memory."
   ]
  },
  {
   "cell_type": "code",
   "execution_count": null,
   "metadata": {},
   "outputs": [],
   "source": [
    "# Load the .jpeg files in the data folder\n",
    "PATH_IMAGES = \"data/images_keep_ar\"\n",
    "PATH_LABELS = \"data/labels/trainLabels.csv\"\n",
    "batch_size = 8  # default 8\n",
    "img_size = (300, 300)  # default size 120/120\n",
    "num_epochs = 20"
   ]
  },
  {
   "cell_type": "markdown",
   "metadata": {},
   "source": [
    "Load train and validation, 90-10 ratio. "
   ]
  },
  {
   "cell_type": "code",
   "execution_count": null,
   "metadata": {},
   "outputs": [],
   "source": [
    "train_loader, validation_loader = load_data(\n",
    "    PATH_LABELS, PATH_IMAGES, img_size, batch_size\n",
    ")"
   ]
  },
  {
   "cell_type": "code",
   "execution_count": null,
   "metadata": {},
   "outputs": [],
   "source": [
    "# Visualize an image\n",
    "for images, labels in train_loader:\n",
    "    print(images.shape)\n",
    "    print(labels.shape)\n",
    "    plt.figure(figsize=(4, 4))\n",
    "    plt.axis(\"off\")\n",
    "    plt.imshow(np.transpose(images[0], (1, 2, 0)))\n",
    "    plt.show()\n",
    "    break"
   ]
  },
  {
   "cell_type": "markdown",
   "metadata": {},
   "source": [
    "## 3. Model"
   ]
  },
  {
   "cell_type": "markdown",
   "metadata": {},
   "source": [
    "Here we are gonna use the InceptionV3 model. We will use the pretrained weights from the ImageNet dataset. We will freeze the weights of the model and only train the last few layers.\n",
    "Inception_V3 has auxiliary outputs that are not used in this notebook. Inception v3 consists of five convolutional layers, two max-pooling layers, 11 inception modules, one average pooling layer, and one fully connected layer.\n",
    "We also alter the last layer to fit our problem, since we have 5 classes instead of 1000."
   ]
  },
  {
   "cell_type": "code",
   "execution_count": null,
   "metadata": {},
   "outputs": [],
   "source": [
    "# Initialize model with the best available weights\n",
    "weights = Inception_V3_Weights.DEFAULT\n",
    "model = inception_v3(weights=weights)"
   ]
  },
  {
   "cell_type": "markdown",
   "metadata": {},
   "source": [
    "We will unfreeze `InceptionE` layer, in order to fine-tune the model.\n",
    "\n",
    "To see the structure: `print(model)`"
   ]
  },
  {
   "cell_type": "code",
   "execution_count": null,
   "metadata": {},
   "outputs": [],
   "source": [
    "parameters_to_train = []\n",
    "\n",
    "# Freeze all the layers in the network\n",
    "for param in model.parameters():\n",
    "    param.requires_grad = False\n",
    "\n",
    "# Replace the last layer\n",
    "model.fc = nn.Linear(2048, 5)\n",
    "\n",
    "# Unfreeze layer 7\n",
    "for param in model.fc.parameters():\n",
    "    param.requires_grad = True\n",
    "    parameters_to_train.append(param)\n",
    "\n",
    "for param in model.Mixed_7c.parameters():\n",
    "    param.requires_grad = True\n",
    "    parameters_to_train.append(param)\n",
    "\n",
    "for param in model.Mixed_7b.parameters():\n",
    "    param.requires_grad = True\n",
    "    parameters_to_train.append(param)"
   ]
  },
  {
   "cell_type": "code",
   "execution_count": null,
   "metadata": {},
   "outputs": [],
   "source": [
    "optimizer = optim.Adam(parameters_to_train, lr=3e-5)\n",
    "criterion = nn.CrossEntropyLoss()\n",
    "model.to(device)"
   ]
  },
  {
   "cell_type": "markdown",
   "metadata": {},
   "source": [
    "Optional. If you want to fine tune this model, we advise you to do in in steps. Load the last checkpoint to continue with training. "
   ]
  },
  {
   "cell_type": "code",
   "execution_count": null,
   "metadata": {},
   "outputs": [],
   "source": [
    "# MODEL = \"results/models/inception_baseline.pt\"\n",
    "# checkpoint = torch.load(MODEL)\n",
    "# model.load_state_dict(checkpoint)"
   ]
  },
  {
   "cell_type": "markdown",
   "metadata": {},
   "source": [
    "### 3.1 Model training and evaluation"
   ]
  },
  {
   "cell_type": "code",
   "execution_count": null,
   "metadata": {},
   "outputs": [],
   "source": [
    "train(\n",
    "    model,\n",
    "    train_loader,\n",
    "    validation_loader,\n",
    "    optimizer,\n",
    "    criterion,\n",
    "    device,\n",
    "    num_epochs,\n",
    "    \"results/models/inception_baseline.pt\",\n",
    ")"
   ]
  }
 ],
 "metadata": {
  "kernelspec": {
   "display_name": "dna",
   "language": "python",
   "name": "python3"
  },
  "language_info": {
   "codemirror_mode": {
    "name": "ipython",
    "version": 3
   },
   "file_extension": ".py",
   "mimetype": "text/x-python",
   "name": "python",
   "nbconvert_exporter": "python",
   "pygments_lexer": "ipython3",
   "version": "3.8.18"
  }
 },
 "nbformat": 4,
 "nbformat_minor": 2
}
