{
 "cells": [
  {
   "cell_type": "markdown",
   "metadata": {},
   "source": [
    "# Building a Basic CNN"
   ]
  },
  {
   "cell_type": "markdown",
   "metadata": {},
   "source": [
    "In this notebook, we create a simple CNN model to classify the images. This basic model will act as our starting point and will be used as a benchmark to compare with more advanced models later. However this problem was much harder than we anticipated, this model has a really poor performance."
   ]
  },
  {
   "cell_type": "markdown",
   "metadata": {},
   "source": [
    "**Note:** We highly recommend running this notebook on a GPU. "
   ]
  },
  {
   "cell_type": "markdown",
   "metadata": {},
   "source": [
    "## 0. Initialization"
   ]
  },
  {
   "cell_type": "markdown",
   "metadata": {},
   "source": [
    "Import the packages."
   ]
  },
  {
   "cell_type": "code",
   "execution_count": null,
   "metadata": {},
   "outputs": [],
   "source": [
    "%load_ext autoreload\n",
    "%autoreload 2"
   ]
  },
  {
   "cell_type": "code",
   "execution_count": null,
   "metadata": {},
   "outputs": [],
   "source": [
    "import warnings\n",
    "\n",
    "warnings.filterwarnings(\"ignore\")"
   ]
  },
  {
   "cell_type": "code",
   "execution_count": null,
   "metadata": {},
   "outputs": [],
   "source": [
    "import os\n",
    "\n",
    "os.chdir(\"..\")\n",
    "import requests\n",
    "import zipfile\n",
    "import numpy as np\n",
    "import matplotlib.pyplot as plt\n",
    "import torch\n",
    "import torch.nn as nn\n",
    "import torch.optim as optim\n",
    "from src.models.simple_cnn import OptimizedCNN\n",
    "from src.utils import seed_everything\n",
    "from src.loading import load_data\n",
    "from src.train import train"
   ]
  },
  {
   "cell_type": "code",
   "execution_count": null,
   "metadata": {},
   "outputs": [],
   "source": [
    "# Set seeds\n",
    "seed_everything()\n",
    "\n",
    "# Set device\n",
    "device = torch.device(\"cuda\" if torch.cuda.is_available() else \"cpu\")"
   ]
  },
  {
   "cell_type": "markdown",
   "metadata": {},
   "source": [
    "\n",
    "\n",
    "---\n",
    "\n",
    "<a name='s1'></a>\n",
    "## 1. Downloading the dataset\n",
    "\n",
    "Fetching the dataset should take around 4-5 minutes. Unzipping takes 20s."
   ]
  },
  {
   "cell_type": "code",
   "execution_count": null,
   "metadata": {},
   "outputs": [],
   "source": [
    "# if folder 'data/' is does not exist, download the data\n",
    "if not os.path.exists(\"data/\"):\n",
    "    # Dropbox URL\n",
    "    dropbox_url = \"https://www.dropbox.com/scl/fi/sa14unf8s47e9ym125zgo/data.zip?rlkey=198bg0cmbmmrcjkfufy9064wm&dl=1\"\n",
    "\n",
    "    # File path where the .zip file will be saved\n",
    "    file_path = \"data.zip\"\n",
    "\n",
    "    response = requests.get(dropbox_url)\n",
    "\n",
    "    if response.status_code == 200:\n",
    "        with open(file_path, \"wb\") as file:\n",
    "            file.write(response.content)\n",
    "        message = \"Download successful. The file has been saved as 'data.zip'.\"\n",
    "    else:\n",
    "        message = \"Failed to download the file. Error code: \" + str(\n",
    "            response.status_code\n",
    "        )\n",
    "\n",
    "    print(message)\n",
    "\n",
    "    # Path to the downloaded .zip file\n",
    "    zip_file_path = \"data.zip\"\n",
    "\n",
    "    # Directory to extract the contents of the zip file\n",
    "    extraction_path = \"\"\n",
    "\n",
    "    # Unzipping the file\n",
    "    with zipfile.ZipFile(zip_file_path, \"r\") as zip_ref:\n",
    "        zip_ref.extractall(extraction_path)\n",
    "\n",
    "    extraction_message = (\n",
    "        f\"The contents of the zip file have been extracted to: {extraction_path}\"\n",
    "    )\n",
    "\n",
    "    print(extraction_message)"
   ]
  },
  {
   "cell_type": "markdown",
   "metadata": {},
   "source": [
    "## 2. Data"
   ]
  },
  {
   "cell_type": "code",
   "execution_count": null,
   "metadata": {},
   "outputs": [],
   "source": [
    "# Load the .jpeg files in the data folder\n",
    "PATH_IMAGES = \"data/images\"\n",
    "PATH_LABELS = \"data/labels/trainLabels.csv\"\n",
    "# Hyperparameters\n",
    "batch_size = 8\n",
    "img_size = (512, 512)\n",
    "num_epochs = 20"
   ]
  },
  {
   "cell_type": "code",
   "execution_count": null,
   "metadata": {},
   "outputs": [],
   "source": [
    "train_loader, validation_loader = load_data(\n",
    "    PATH_LABELS, PATH_IMAGES, img_size, batch_size\n",
    ")"
   ]
  },
  {
   "cell_type": "code",
   "execution_count": null,
   "metadata": {},
   "outputs": [],
   "source": [
    "# Visualize an image\n",
    "for images, labels in train_loader:\n",
    "    print(images.shape)\n",
    "    print(labels.shape)\n",
    "    plt.figure(figsize=(6, 6))\n",
    "    plt.axis(\"off\")\n",
    "    plt.imshow(np.transpose(images[0], (1, 2, 0)))\n",
    "    plt.show()\n",
    "    break"
   ]
  },
  {
   "cell_type": "markdown",
   "metadata": {},
   "source": [
    "## 3. Model"
   ]
  },
  {
   "cell_type": "code",
   "execution_count": null,
   "metadata": {},
   "outputs": [],
   "source": [
    "model = OptimizedCNN()\n",
    "criterion = nn.CrossEntropyLoss()\n",
    "optimizer = optim.Adam(model.parameters(), lr=3e-5)\n",
    "model.to(device)"
   ]
  },
  {
   "cell_type": "markdown",
   "metadata": {},
   "source": [
    "### 3.1 Model training and evaluation"
   ]
  },
  {
   "cell_type": "code",
   "execution_count": null,
   "metadata": {},
   "outputs": [],
   "source": [
    "train(\n",
    "    model,\n",
    "    train_loader,\n",
    "    validation_loader,\n",
    "    criterion,\n",
    "    optimizer,\n",
    "    device,\n",
    "    model_name=\"results/models/cnn_test.pt\",\n",
    "    num_epochs=num_epochs,\n",
    ")"
   ]
  }
 ],
 "metadata": {
  "kernelspec": {
   "display_name": "dna",
   "language": "python",
   "name": "python3"
  },
  "language_info": {
   "codemirror_mode": {
    "name": "ipython",
    "version": 3
   },
   "file_extension": ".py",
   "mimetype": "text/x-python",
   "name": "python",
   "nbconvert_exporter": "python",
   "pygments_lexer": "ipython3",
   "version": "3.8.18"
  }
 },
 "nbformat": 4,
 "nbformat_minor": 2
}
